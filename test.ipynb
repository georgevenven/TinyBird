{
 "cells": [
  {
   "cell_type": "code",
   "execution_count": 6,
   "id": "ce2582a8",
   "metadata": {},
   "outputs": [
    {
     "name": "stdout",
     "output_type": "stream",
     "text": [
      "Copied 1083 wav files to /media/george-vengrovski/disk2/avn_zf_data/wav_files\n",
      "Copied 1083 annotation files to /media/george-vengrovski/disk2/avn_zf_data/annotation_files\n"
     ]
    }
   ],
   "source": [
    "import os\n",
    "import shutil\n",
    "\n",
    "def find_files(root_dir, suffix):\n",
    "    matched_files = []\n",
    "    for dirpath, _, filenames in os.walk(root_dir):\n",
    "        for filename in filenames:\n",
    "            if filename.lower().endswith(suffix.lower()):\n",
    "                matched_files.append(os.path.join(dirpath, filename))\n",
    "    return matched_files\n",
    "\n",
    "# Directories\n",
    "root_dir = '/media/george-vengrovski/disk2/avn_zf_data'\n",
    "wav_dir = '/media/george-vengrovski/disk2/avn_zf_data/wav_files'\n",
    "annotation_dir = '/media/george-vengrovski/disk2/avn_zf_data/annotation_files'\n",
    "\n",
    "# Make sure target dirs exist\n",
    "os.makedirs(wav_dir, exist_ok=True)\n",
    "os.makedirs(annotation_dir, exist_ok=True)\n",
    "\n",
    "# Find files\n",
    "wav_files = find_files(root_dir, \".wav\")\n",
    "annotation_files = find_files(root_dir, \".wav.not.mat\")\n",
    "\n",
    "# Copy WAVs\n",
    "for f in wav_files:\n",
    "    shutil.copy2(f, wav_dir)\n",
    "\n",
    "# Copy annotation files\n",
    "for f in annotation_files:\n",
    "    shutil.copy2(f, annotation_dir)\n",
    "\n",
    "print(f\"Copied {len(wav_files)} wav files to {wav_dir}\")\n",
    "print(f\"Copied {len(annotation_files)} annotation files to {annotation_dir}\")\n"
   ]
  }
 ],
 "metadata": {
  "kernelspec": {
   "display_name": "tweetybert",
   "language": "python",
   "name": "python3"
  },
  "language_info": {
   "codemirror_mode": {
    "name": "ipython",
    "version": 3
   },
   "file_extension": ".py",
   "mimetype": "text/x-python",
   "name": "python",
   "nbconvert_exporter": "python",
   "pygments_lexer": "ipython3",
   "version": "3.11.9"
  }
 },
 "nbformat": 4,
 "nbformat_minor": 5
}
