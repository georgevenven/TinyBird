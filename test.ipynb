{
 "cells": [
  {
   "cell_type": "code",
   "execution_count": null,
   "id": "ce2582a8",
   "metadata": {},
   "outputs": [
    {
     "name": "stdout",
     "output_type": "stream",
     "text": [
      "(160000,) 32000\n",
      "[-0.0006063  -0.00051655 -0.00055482 -0.00062202 -0.00039797 -0.00057403\n",
      " -0.00078173 -0.00069759 -0.00065068 -0.00071769]\n"
     ]
    }
   ],
   "source": [
    "from datasets import Audio, load_dataset\n",
    "import numpy as np\n",
    "\n",
    "ds = load_dataset(\"DBD-research-group/BirdSet\", \"HSN\", streaming=True)\n",
    "ds = ds.cast_column(\"audio\", Audio(sampling_rate=32_000))  # ensures decoding\n",
    "\n",
    "test = ds[\"test_5s\"]\n",
    "\n",
    "# one example\n",
    "ex = next(iter(test))\n",
    "wav = ex[\"audio\"][\"array\"]            # np.float32 samples\n",
    "sr  = ex[\"audio\"][\"sampling_rate\"]    # 32000\n",
    "wav5 = wav[:5*sr]\n",
    "\n",
    "print(wav.shape, sr)\n",
    "print(wav[:10])\n",
    "\n",
    "# many examples\n",
    "for ex in test.take(5):\n",
    "    wav = ex[\"audio\"][\"array\"]\n",
    "    sr  = ex[\"audio\"][\"sampling_rate\"]\n",
    "    print(len(wav), sr)\n"
   ]
  },
  {
   "cell_type": "code",
   "execution_count": null,
   "id": "2c003499",
   "metadata": {},
   "outputs": [],
   "source": [
    "\n"
   ]
  },
  {
   "cell_type": "code",
   "execution_count": null,
   "id": "9bef0b30",
   "metadata": {},
   "outputs": [],
   "source": [
    "\n"
   ]
  }
 ],
 "metadata": {
  "kernelspec": {
   "display_name": "tweetybert",
   "language": "python",
   "name": "python3"
  },
  "language_info": {
   "codemirror_mode": {
    "name": "ipython",
    "version": 3
   },
   "file_extension": ".py",
   "mimetype": "text/x-python",
   "name": "python",
   "nbconvert_exporter": "python",
   "pygments_lexer": "ipython3",
   "version": "3.11.9"
  }
 },
 "nbformat": 4,
 "nbformat_minor": 5
}
